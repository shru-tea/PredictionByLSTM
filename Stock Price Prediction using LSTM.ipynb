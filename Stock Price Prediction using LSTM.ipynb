{
 "cells": [
  {
   "cell_type": "markdown",
   "id": "ready-subcommittee",
   "metadata": {},
   "source": [
    "## Prediction of MSFT stock price using LSTM"
   ]
  },
  {
   "cell_type": "code",
   "execution_count": 47,
   "id": "imperial-spread",
   "metadata": {},
   "outputs": [],
   "source": [
    "#importing the libraries\n",
    "import numpy as np\n",
    "import pandas as pd\n",
    "import matplotlib.pyplot as plt\n",
    "import seaborn as sns\n",
    "import pandas_datareader as pdr\n",
    "import datetime as dt\n",
    "%matplotlib inline"
   ]
  },
  {
   "cell_type": "code",
   "execution_count": 48,
   "id": "national-perry",
   "metadata": {},
   "outputs": [],
   "source": [
    "#reading the stock market data\n",
    "\n",
    "#STEP 1: Pick any listed stock that you like ( the company should be listed for atleast 10+ years). \n",
    "#Using investpy, extract its 11 year closing values - From Jan 2010 to Dec 2020.\n",
    "\n",
    "company = 'MSFT'\n",
    "start = dt.datetime(2010,1,1)\n",
    "end = dt.datetime(2020,12,1)\n",
    "stock_data = pdr.DataReader(company,'yahoo',start,end)"
   ]
  },
  {
   "cell_type": "code",
   "execution_count": 49,
   "id": "hairy-mayor",
   "metadata": {},
   "outputs": [
    {
     "data": {
      "text/html": [
       "<div>\n",
       "<style scoped>\n",
       "    .dataframe tbody tr th:only-of-type {\n",
       "        vertical-align: middle;\n",
       "    }\n",
       "\n",
       "    .dataframe tbody tr th {\n",
       "        vertical-align: top;\n",
       "    }\n",
       "\n",
       "    .dataframe thead th {\n",
       "        text-align: right;\n",
       "    }\n",
       "</style>\n",
       "<table border=\"1\" class=\"dataframe\">\n",
       "  <thead>\n",
       "    <tr style=\"text-align: right;\">\n",
       "      <th></th>\n",
       "      <th>High</th>\n",
       "      <th>Low</th>\n",
       "      <th>Open</th>\n",
       "      <th>Close</th>\n",
       "      <th>Volume</th>\n",
       "      <th>Adj Close</th>\n",
       "    </tr>\n",
       "    <tr>\n",
       "      <th>Date</th>\n",
       "      <th></th>\n",
       "      <th></th>\n",
       "      <th></th>\n",
       "      <th></th>\n",
       "      <th></th>\n",
       "      <th></th>\n",
       "    </tr>\n",
       "  </thead>\n",
       "  <tbody>\n",
       "    <tr>\n",
       "      <th>2009-12-31</th>\n",
       "      <td>30.990000</td>\n",
       "      <td>30.480000</td>\n",
       "      <td>30.980000</td>\n",
       "      <td>30.480000</td>\n",
       "      <td>31929700.0</td>\n",
       "      <td>23.684755</td>\n",
       "    </tr>\n",
       "    <tr>\n",
       "      <th>2010-01-04</th>\n",
       "      <td>31.100000</td>\n",
       "      <td>30.590000</td>\n",
       "      <td>30.620001</td>\n",
       "      <td>30.950001</td>\n",
       "      <td>38409100.0</td>\n",
       "      <td>24.049969</td>\n",
       "    </tr>\n",
       "    <tr>\n",
       "      <th>2010-01-05</th>\n",
       "      <td>31.100000</td>\n",
       "      <td>30.639999</td>\n",
       "      <td>30.850000</td>\n",
       "      <td>30.959999</td>\n",
       "      <td>49749600.0</td>\n",
       "      <td>24.057743</td>\n",
       "    </tr>\n",
       "    <tr>\n",
       "      <th>2010-01-06</th>\n",
       "      <td>31.080000</td>\n",
       "      <td>30.520000</td>\n",
       "      <td>30.879999</td>\n",
       "      <td>30.770000</td>\n",
       "      <td>58182400.0</td>\n",
       "      <td>23.910097</td>\n",
       "    </tr>\n",
       "    <tr>\n",
       "      <th>2010-01-07</th>\n",
       "      <td>30.700001</td>\n",
       "      <td>30.190001</td>\n",
       "      <td>30.629999</td>\n",
       "      <td>30.450001</td>\n",
       "      <td>50559700.0</td>\n",
       "      <td>23.661432</td>\n",
       "    </tr>\n",
       "  </tbody>\n",
       "</table>\n",
       "</div>"
      ],
      "text/plain": [
       "                 High        Low       Open      Close      Volume  Adj Close\n",
       "Date                                                                         \n",
       "2009-12-31  30.990000  30.480000  30.980000  30.480000  31929700.0  23.684755\n",
       "2010-01-04  31.100000  30.590000  30.620001  30.950001  38409100.0  24.049969\n",
       "2010-01-05  31.100000  30.639999  30.850000  30.959999  49749600.0  24.057743\n",
       "2010-01-06  31.080000  30.520000  30.879999  30.770000  58182400.0  23.910097\n",
       "2010-01-07  30.700001  30.190001  30.629999  30.450001  50559700.0  23.661432"
      ]
     },
     "execution_count": 49,
     "metadata": {},
     "output_type": "execute_result"
    }
   ],
   "source": [
    "#starting the dataset from Jan 2010\n",
    "stock_data.head()"
   ]
  },
  {
   "cell_type": "code",
   "execution_count": 50,
   "id": "macro-webmaster",
   "metadata": {},
   "outputs": [
    {
     "data": {
      "text/html": [
       "<div>\n",
       "<style scoped>\n",
       "    .dataframe tbody tr th:only-of-type {\n",
       "        vertical-align: middle;\n",
       "    }\n",
       "\n",
       "    .dataframe tbody tr th {\n",
       "        vertical-align: top;\n",
       "    }\n",
       "\n",
       "    .dataframe thead th {\n",
       "        text-align: right;\n",
       "    }\n",
       "</style>\n",
       "<table border=\"1\" class=\"dataframe\">\n",
       "  <thead>\n",
       "    <tr style=\"text-align: right;\">\n",
       "      <th></th>\n",
       "      <th>High</th>\n",
       "      <th>Low</th>\n",
       "      <th>Open</th>\n",
       "      <th>Close</th>\n",
       "      <th>Volume</th>\n",
       "      <th>Adj Close</th>\n",
       "    </tr>\n",
       "    <tr>\n",
       "      <th>Date</th>\n",
       "      <th></th>\n",
       "      <th></th>\n",
       "      <th></th>\n",
       "      <th></th>\n",
       "      <th></th>\n",
       "      <th></th>\n",
       "    </tr>\n",
       "  </thead>\n",
       "  <tbody>\n",
       "    <tr>\n",
       "      <th>2020-11-24</th>\n",
       "      <td>214.250000</td>\n",
       "      <td>208.860001</td>\n",
       "      <td>209.589996</td>\n",
       "      <td>213.860001</td>\n",
       "      <td>33979700.0</td>\n",
       "      <td>213.368576</td>\n",
       "    </tr>\n",
       "    <tr>\n",
       "      <th>2020-11-25</th>\n",
       "      <td>215.289993</td>\n",
       "      <td>212.460007</td>\n",
       "      <td>215.110001</td>\n",
       "      <td>213.869995</td>\n",
       "      <td>21012900.0</td>\n",
       "      <td>213.378555</td>\n",
       "    </tr>\n",
       "    <tr>\n",
       "      <th>2020-11-27</th>\n",
       "      <td>216.270004</td>\n",
       "      <td>214.039993</td>\n",
       "      <td>214.850006</td>\n",
       "      <td>215.229996</td>\n",
       "      <td>14512200.0</td>\n",
       "      <td>214.735428</td>\n",
       "    </tr>\n",
       "    <tr>\n",
       "      <th>2020-11-30</th>\n",
       "      <td>214.759995</td>\n",
       "      <td>210.839996</td>\n",
       "      <td>214.100006</td>\n",
       "      <td>214.070007</td>\n",
       "      <td>33064800.0</td>\n",
       "      <td>213.578094</td>\n",
       "    </tr>\n",
       "    <tr>\n",
       "      <th>2020-12-01</th>\n",
       "      <td>217.320007</td>\n",
       "      <td>213.350006</td>\n",
       "      <td>214.509995</td>\n",
       "      <td>216.210007</td>\n",
       "      <td>30904500.0</td>\n",
       "      <td>215.713181</td>\n",
       "    </tr>\n",
       "  </tbody>\n",
       "</table>\n",
       "</div>"
      ],
      "text/plain": [
       "                  High         Low        Open       Close      Volume  \\\n",
       "Date                                                                     \n",
       "2020-11-24  214.250000  208.860001  209.589996  213.860001  33979700.0   \n",
       "2020-11-25  215.289993  212.460007  215.110001  213.869995  21012900.0   \n",
       "2020-11-27  216.270004  214.039993  214.850006  215.229996  14512200.0   \n",
       "2020-11-30  214.759995  210.839996  214.100006  214.070007  33064800.0   \n",
       "2020-12-01  217.320007  213.350006  214.509995  216.210007  30904500.0   \n",
       "\n",
       "             Adj Close  \n",
       "Date                    \n",
       "2020-11-24  213.368576  \n",
       "2020-11-25  213.378555  \n",
       "2020-11-27  214.735428  \n",
       "2020-11-30  213.578094  \n",
       "2020-12-01  215.713181  "
      ]
     },
     "execution_count": 50,
     "metadata": {},
     "output_type": "execute_result"
    }
   ],
   "source": [
    "#ending the dataset at Dec 2020\n",
    "stock_data.tail()"
   ]
  },
  {
   "cell_type": "code",
   "execution_count": 51,
   "id": "residential-keeping",
   "metadata": {},
   "outputs": [
    {
     "data": {
      "text/plain": [
       "Date\n",
       "2009-12-31    30.480000\n",
       "2010-01-04    30.950001\n",
       "2010-01-05    30.959999\n",
       "2010-01-06    30.770000\n",
       "2010-01-07    30.450001\n",
       "Name: Close, dtype: float64"
      ]
     },
     "execution_count": 51,
     "metadata": {},
     "output_type": "execute_result"
    }
   ],
   "source": [
    "#only getting the closing value of the stock prices\n",
    "stock_data = stock_data['Close']\n",
    "stock_data.head()"
   ]
  },
  {
   "cell_type": "code",
   "execution_count": 52,
   "id": "american-wayne",
   "metadata": {},
   "outputs": [
    {
     "data": {
      "text/html": [
       "<div>\n",
       "<style scoped>\n",
       "    .dataframe tbody tr th:only-of-type {\n",
       "        vertical-align: middle;\n",
       "    }\n",
       "\n",
       "    .dataframe tbody tr th {\n",
       "        vertical-align: top;\n",
       "    }\n",
       "\n",
       "    .dataframe thead th {\n",
       "        text-align: right;\n",
       "    }\n",
       "</style>\n",
       "<table border=\"1\" class=\"dataframe\">\n",
       "  <thead>\n",
       "    <tr style=\"text-align: right;\">\n",
       "      <th></th>\n",
       "      <th>Close</th>\n",
       "    </tr>\n",
       "    <tr>\n",
       "      <th>Date</th>\n",
       "      <th></th>\n",
       "    </tr>\n",
       "  </thead>\n",
       "  <tbody>\n",
       "    <tr>\n",
       "      <th>2009-12-31</th>\n",
       "      <td>30.480000</td>\n",
       "    </tr>\n",
       "    <tr>\n",
       "      <th>2010-01-04</th>\n",
       "      <td>30.950001</td>\n",
       "    </tr>\n",
       "    <tr>\n",
       "      <th>2010-01-05</th>\n",
       "      <td>30.959999</td>\n",
       "    </tr>\n",
       "    <tr>\n",
       "      <th>2010-01-06</th>\n",
       "      <td>30.770000</td>\n",
       "    </tr>\n",
       "    <tr>\n",
       "      <th>2010-01-07</th>\n",
       "      <td>30.450001</td>\n",
       "    </tr>\n",
       "    <tr>\n",
       "      <th>...</th>\n",
       "      <td>...</td>\n",
       "    </tr>\n",
       "    <tr>\n",
       "      <th>2020-11-24</th>\n",
       "      <td>213.860001</td>\n",
       "    </tr>\n",
       "    <tr>\n",
       "      <th>2020-11-25</th>\n",
       "      <td>213.869995</td>\n",
       "    </tr>\n",
       "    <tr>\n",
       "      <th>2020-11-27</th>\n",
       "      <td>215.229996</td>\n",
       "    </tr>\n",
       "    <tr>\n",
       "      <th>2020-11-30</th>\n",
       "      <td>214.070007</td>\n",
       "    </tr>\n",
       "    <tr>\n",
       "      <th>2020-12-01</th>\n",
       "      <td>216.210007</td>\n",
       "    </tr>\n",
       "  </tbody>\n",
       "</table>\n",
       "<p>2749 rows × 1 columns</p>\n",
       "</div>"
      ],
      "text/plain": [
       "                 Close\n",
       "Date                  \n",
       "2009-12-31   30.480000\n",
       "2010-01-04   30.950001\n",
       "2010-01-05   30.959999\n",
       "2010-01-06   30.770000\n",
       "2010-01-07   30.450001\n",
       "...                ...\n",
       "2020-11-24  213.860001\n",
       "2020-11-25  213.869995\n",
       "2020-11-27  215.229996\n",
       "2020-11-30  214.070007\n",
       "2020-12-01  216.210007\n",
       "\n",
       "[2749 rows x 1 columns]"
      ]
     },
     "execution_count": 52,
     "metadata": {},
     "output_type": "execute_result"
    }
   ],
   "source": [
    "stock_data=stock_data.to_frame()\n",
    "stock_data"
   ]
  },
  {
   "cell_type": "markdown",
   "id": "expired-teacher",
   "metadata": {},
   "source": [
    "### Cleaning the dataset"
   ]
  },
  {
   "cell_type": "code",
   "execution_count": 53,
   "id": "prime-sally",
   "metadata": {},
   "outputs": [
    {
     "data": {
      "text/plain": [
       "Close    float64\n",
       "dtype: object"
      ]
     },
     "execution_count": 53,
     "metadata": {},
     "output_type": "execute_result"
    }
   ],
   "source": [
    "#Cleaning the dataset\n",
    "stock_data.dtypes"
   ]
  },
  {
   "cell_type": "code",
   "execution_count": 54,
   "id": "surrounded-performance",
   "metadata": {},
   "outputs": [
    {
     "name": "stdout",
     "output_type": "stream",
     "text": [
      "<class 'pandas.core.frame.DataFrame'>\n",
      "DatetimeIndex: 2749 entries, 2009-12-31 to 2020-12-01\n",
      "Data columns (total 1 columns):\n",
      " #   Column  Non-Null Count  Dtype  \n",
      "---  ------  --------------  -----  \n",
      " 0   Close   2749 non-null   float64\n",
      "dtypes: float64(1)\n",
      "memory usage: 43.0 KB\n",
      "None\n"
     ]
    }
   ],
   "source": [
    "print(stock_data.info())"
   ]
  },
  {
   "cell_type": "code",
   "execution_count": 55,
   "id": "adequate-offense",
   "metadata": {},
   "outputs": [
    {
     "data": {
      "text/plain": [
       "(2749, 1)"
      ]
     },
     "execution_count": 55,
     "metadata": {},
     "output_type": "execute_result"
    }
   ],
   "source": [
    "stock_data.shape"
   ]
  },
  {
   "cell_type": "code",
   "execution_count": 56,
   "id": "subtle-cause",
   "metadata": {},
   "outputs": [
    {
     "data": {
      "text/html": [
       "<div>\n",
       "<style scoped>\n",
       "    .dataframe tbody tr th:only-of-type {\n",
       "        vertical-align: middle;\n",
       "    }\n",
       "\n",
       "    .dataframe tbody tr th {\n",
       "        vertical-align: top;\n",
       "    }\n",
       "\n",
       "    .dataframe thead th {\n",
       "        text-align: right;\n",
       "    }\n",
       "</style>\n",
       "<table border=\"1\" class=\"dataframe\">\n",
       "  <thead>\n",
       "    <tr style=\"text-align: right;\">\n",
       "      <th></th>\n",
       "      <th>Close</th>\n",
       "    </tr>\n",
       "    <tr>\n",
       "      <th>Date</th>\n",
       "      <th></th>\n",
       "    </tr>\n",
       "  </thead>\n",
       "  <tbody>\n",
       "  </tbody>\n",
       "</table>\n",
       "</div>"
      ],
      "text/plain": [
       "Empty DataFrame\n",
       "Columns: [Close]\n",
       "Index: []"
      ]
     },
     "execution_count": 56,
     "metadata": {},
     "output_type": "execute_result"
    }
   ],
   "source": [
    "null_values=stock_data[stock_data.isna().any(axis=1)]\n",
    "null_values"
   ]
  },
  {
   "cell_type": "code",
   "execution_count": 57,
   "id": "bored-first",
   "metadata": {},
   "outputs": [
    {
     "data": {
      "text/html": [
       "<div>\n",
       "<style scoped>\n",
       "    .dataframe tbody tr th:only-of-type {\n",
       "        vertical-align: middle;\n",
       "    }\n",
       "\n",
       "    .dataframe tbody tr th {\n",
       "        vertical-align: top;\n",
       "    }\n",
       "\n",
       "    .dataframe thead th {\n",
       "        text-align: right;\n",
       "    }\n",
       "</style>\n",
       "<table border=\"1\" class=\"dataframe\">\n",
       "  <thead>\n",
       "    <tr style=\"text-align: right;\">\n",
       "      <th></th>\n",
       "      <th>Close</th>\n",
       "    </tr>\n",
       "  </thead>\n",
       "  <tbody>\n",
       "    <tr>\n",
       "      <th>count</th>\n",
       "      <td>2749.000000</td>\n",
       "    </tr>\n",
       "    <tr>\n",
       "      <th>mean</th>\n",
       "      <td>67.658669</td>\n",
       "    </tr>\n",
       "    <tr>\n",
       "      <th>std</th>\n",
       "      <td>49.901868</td>\n",
       "    </tr>\n",
       "    <tr>\n",
       "      <th>min</th>\n",
       "      <td>23.010000</td>\n",
       "    </tr>\n",
       "    <tr>\n",
       "      <th>25%</th>\n",
       "      <td>30.200001</td>\n",
       "    </tr>\n",
       "    <tr>\n",
       "      <th>50%</th>\n",
       "      <td>46.880001</td>\n",
       "    </tr>\n",
       "    <tr>\n",
       "      <th>75%</th>\n",
       "      <td>92.879997</td>\n",
       "    </tr>\n",
       "    <tr>\n",
       "      <th>max</th>\n",
       "      <td>231.649994</td>\n",
       "    </tr>\n",
       "  </tbody>\n",
       "</table>\n",
       "</div>"
      ],
      "text/plain": [
       "             Close\n",
       "count  2749.000000\n",
       "mean     67.658669\n",
       "std      49.901868\n",
       "min      23.010000\n",
       "25%      30.200001\n",
       "50%      46.880001\n",
       "75%      92.879997\n",
       "max     231.649994"
      ]
     },
     "execution_count": 57,
     "metadata": {},
     "output_type": "execute_result"
    }
   ],
   "source": [
    "#this shows that dataset doesnot contain any null values\n",
    "stock_data.describe()"
   ]
  },
  {
   "cell_type": "markdown",
   "id": "elementary-plastic",
   "metadata": {},
   "source": [
    "## Exploratory Data Analysis"
   ]
  },
  {
   "cell_type": "code",
   "execution_count": 58,
   "id": "developmental-earthquake",
   "metadata": {},
   "outputs": [
    {
     "data": {
      "text/plain": [
       "Text(0, 0.5, 'Close')"
      ]
     },
     "execution_count": 58,
     "metadata": {},
     "output_type": "execute_result"
    },
    {
     "data": {
      "image/png": "[encoded data removed]",
      "text/plain": [
       "<Figure size 576x360 with 1 Axes>"
      ]
     },
     "metadata": {},
     "output_type": "display_data"
    }
   ],
   "source": [
    "#Exploratpry Data Analysis\n",
    "#seeing the historial view of closing price of MSFT\n",
    "\n",
    "sns.set_style('whitegrid')\n",
    "plt.figure(figsize = (8,5))\n",
    "stock_data['Close'].plot(color='cornflowerblue')\n",
    "plt.title('Microsoft',fontsize=16)\n",
    "plt.ylabel('Close')"
   ]
  },
  {
   "cell_type": "code",
   "execution_count": 59,
   "id": "absent-democrat",
   "metadata": {},
   "outputs": [
    {
     "data": {
      "text/html": [
       "<div>\n",
       "<style scoped>\n",
       "    .dataframe tbody tr th:only-of-type {\n",
       "        vertical-align: middle;\n",
       "    }\n",
       "\n",
       "    .dataframe tbody tr th {\n",
       "        vertical-align: top;\n",
       "    }\n",
       "\n",
       "    .dataframe thead th {\n",
       "        text-align: right;\n",
       "    }\n",
       "</style>\n",
       "<table border=\"1\" class=\"dataframe\">\n",
       "  <thead>\n",
       "    <tr style=\"text-align: right;\">\n",
       "      <th></th>\n",
       "      <th>Close</th>\n",
       "      <th>Daily Return</th>\n",
       "    </tr>\n",
       "    <tr>\n",
       "      <th>Date</th>\n",
       "      <th></th>\n",
       "      <th></th>\n",
       "    </tr>\n",
       "  </thead>\n",
       "  <tbody>\n",
       "    <tr>\n",
       "      <th>2010-01-04</th>\n",
       "      <td>30.950001</td>\n",
       "      <td>0.015420</td>\n",
       "    </tr>\n",
       "    <tr>\n",
       "      <th>2010-01-05</th>\n",
       "      <td>30.959999</td>\n",
       "      <td>0.000323</td>\n",
       "    </tr>\n",
       "    <tr>\n",
       "      <th>2010-01-06</th>\n",
       "      <td>30.770000</td>\n",
       "      <td>-0.006137</td>\n",
       "    </tr>\n",
       "    <tr>\n",
       "      <th>2010-01-07</th>\n",
       "      <td>30.450001</td>\n",
       "      <td>-0.010400</td>\n",
       "    </tr>\n",
       "    <tr>\n",
       "      <th>2010-01-08</th>\n",
       "      <td>30.660000</td>\n",
       "      <td>0.006897</td>\n",
       "    </tr>\n",
       "  </tbody>\n",
       "</table>\n",
       "</div>"
      ],
      "text/plain": [
       "                Close  Daily Return\n",
       "Date                               \n",
       "2010-01-04  30.950001      0.015420\n",
       "2010-01-05  30.959999      0.000323\n",
       "2010-01-06  30.770000     -0.006137\n",
       "2010-01-07  30.450001     -0.010400\n",
       "2010-01-08  30.660000      0.006897"
      ]
     },
     "execution_count": 59,
     "metadata": {},
     "output_type": "execute_result"
    }
   ],
   "source": [
    "#We'll use pct_change to find the percent change for each day\n",
    "stock_data['Daily Return'] = stock_data['Close'].pct_change()\n",
    "stock_data=stock_data.dropna()\n",
    "stock_data.head()\n",
    "#stock_data.shape\n",
    "#null_values=stock_data[stock_data.isna().any(axis=1)]\n",
    "#null_values"
   ]
  },
  {
   "cell_type": "code",
   "execution_count": 60,
   "id": "healthy-aspect",
   "metadata": {},
   "outputs": [
    {
     "data": {
      "text/plain": [
       "<AxesSubplot:xlabel='Date'>"
      ]
     },
     "execution_count": 60,
     "metadata": {},
     "output_type": "execute_result"
    },
    {
     "data": {
      "image/png": "[encoded data removed]",
      "text/plain": [
       "<Figure size 432x288 with 1 Axes>"
      ]
     },
     "metadata": {},
     "output_type": "display_data"
    }
   ],
   "source": [
    "stock_data['Daily Return'].plot(color='r')"
   ]
  },
  {
   "cell_type": "code",
   "execution_count": 61,
   "id": "egyptian-empire",
   "metadata": {},
   "outputs": [
    {
     "data": {
      "text/plain": [
       "(2748, 2)"
      ]
     },
     "execution_count": 61,
     "metadata": {},
     "output_type": "execute_result"
    }
   ],
   "source": [
    "stock_data.head()\n",
    "stock_data.shape"
   ]
  },
  {
   "cell_type": "code",
   "execution_count": 62,
   "id": "decimal-market",
   "metadata": {},
   "outputs": [
    {
     "data": {
      "text/html": [
       "<div>\n",
       "<style scoped>\n",
       "    .dataframe tbody tr th:only-of-type {\n",
       "        vertical-align: middle;\n",
       "    }\n",
       "\n",
       "    .dataframe tbody tr th {\n",
       "        vertical-align: top;\n",
       "    }\n",
       "\n",
       "    .dataframe thead th {\n",
       "        text-align: right;\n",
       "    }\n",
       "</style>\n",
       "<table border=\"1\" class=\"dataframe\">\n",
       "  <thead>\n",
       "    <tr style=\"text-align: right;\">\n",
       "      <th></th>\n",
       "      <th>Close</th>\n",
       "    </tr>\n",
       "    <tr>\n",
       "      <th>Date</th>\n",
       "      <th></th>\n",
       "    </tr>\n",
       "  </thead>\n",
       "  <tbody>\n",
       "    <tr>\n",
       "      <th>2010-01-04</th>\n",
       "      <td>30.950001</td>\n",
       "    </tr>\n",
       "    <tr>\n",
       "      <th>2010-01-05</th>\n",
       "      <td>30.959999</td>\n",
       "    </tr>\n",
       "    <tr>\n",
       "      <th>2010-01-06</th>\n",
       "      <td>30.770000</td>\n",
       "    </tr>\n",
       "    <tr>\n",
       "      <th>2010-01-07</th>\n",
       "      <td>30.450001</td>\n",
       "    </tr>\n",
       "    <tr>\n",
       "      <th>2010-01-08</th>\n",
       "      <td>30.660000</td>\n",
       "    </tr>\n",
       "  </tbody>\n",
       "</table>\n",
       "</div>"
      ],
      "text/plain": [
       "                Close\n",
       "Date                 \n",
       "2010-01-04  30.950001\n",
       "2010-01-05  30.959999\n",
       "2010-01-06  30.770000\n",
       "2010-01-07  30.450001\n",
       "2010-01-08  30.660000"
      ]
     },
     "execution_count": 62,
     "metadata": {},
     "output_type": "execute_result"
    }
   ],
   "source": [
    "stock_data.pop('Daily Return')\n",
    "stock_data.head()"
   ]
  },
  {
   "cell_type": "markdown",
   "id": "unauthorized-conservation",
   "metadata": {},
   "source": [
    "## Model building(LSTM)"
   ]
  },
  {
   "cell_type": "code",
   "execution_count": 63,
   "id": "permanent-decrease",
   "metadata": {},
   "outputs": [
    {
     "data": {
      "text/plain": [
       "array([[0.03805599],\n",
       "       [0.03810391],\n",
       "       [0.03719325],\n",
       "       ...,\n",
       "       [0.92129985],\n",
       "       [0.91574009],\n",
       "       [0.92599699]])"
      ]
     },
     "execution_count": 63,
     "metadata": {},
     "output_type": "execute_result"
    }
   ],
   "source": [
    "#Preparing data for LSTM \n",
    "from sklearn.preprocessing import MinMaxScaler\n",
    "scaler = MinMaxScaler(feature_range=(0,1))\n",
    "scaled_stock_data = scaler.fit_transform(np.array(stock_data).reshape(-1,1))\n",
    "scaled_stock_data"
   ]
  },
  {
   "cell_type": "code",
   "execution_count": 64,
   "id": "entertaining-timber",
   "metadata": {},
   "outputs": [
    {
     "data": {
      "text/plain": [
       "(2688, 60, 1)"
      ]
     },
     "execution_count": 64,
     "metadata": {},
     "output_type": "execute_result"
    }
   ],
   "source": [
    "#how many days I want to base my predictions on\n",
    "prediction_days=60\n",
    "X_train=[]\n",
    "y_train=[]\n",
    "for x in range(prediction_days,len(scaled_stock_data)):\n",
    "    X_train.append(scaled_stock_data[x-prediction_days:x, 0])\n",
    "    y_train.append(scaled_stock_data[x,0])\n",
    "X_train, y_train = np.array(X_train), np.array(y_train)\n",
    "X_train = np.reshape(X_train,(X_train.shape[0],X_train.shape[1],1))\n",
    "X_train.shape"
   ]
  },
  {
   "cell_type": "code",
   "execution_count": 65,
   "id": "popular-baseline",
   "metadata": {
    "scrolled": true
   },
   "outputs": [],
   "source": [
    "#importing libraries for LSTM\n",
    "from tensorflow import keras\n",
    "from tensorflow.keras.layers import Dense\n",
    "from tensorflow.keras.layers import Dropout\n",
    "from tensorflow.keras.layers import LSTM\n",
    "from tensorflow.keras.models import Sequential"
   ]
  },
  {
   "cell_type": "code",
   "execution_count": 66,
   "id": "auburn-somalia",
   "metadata": {},
   "outputs": [
    {
     "name": "stdout",
     "output_type": "stream",
     "text": [
      "Model: \"sequential_4\"\n",
      "_________________________________________________________________\n",
      "Layer (type)                 Output Shape              Param #   \n",
      "=================================================================\n",
      "lstm_8 (LSTM)                (None, 60, 50)            10400     \n",
      "_________________________________________________________________\n",
      "dropout_6 (Dropout)          (None, 60, 50)            0         \n",
      "_________________________________________________________________\n",
      "lstm_9 (LSTM)                (None, 60, 50)            20200     \n",
      "_________________________________________________________________\n",
      "dropout_7 (Dropout)          (None, 60, 50)            0         \n",
      "_________________________________________________________________\n",
      "lstm_10 (LSTM)               (None, 50)                20200     \n",
      "_________________________________________________________________\n",
      "dropout_8 (Dropout)          (None, 50)                0         \n",
      "_________________________________________________________________\n",
      "dense_2 (Dense)              (None, 1)                 51        \n",
      "=================================================================\n",
      "Total params: 50,851\n",
      "Trainable params: 50,851\n",
      "Non-trainable params: 0\n",
      "_________________________________________________________________\n"
     ]
    }
   ],
   "source": [
    "#building the LSTM model\n",
    "model = Sequential()\n",
    "model.add(LSTM(units=50,return_sequences=True, input_shape = (X_train.shape[1],1)))\n",
    "model.add(Dropout(0.2))\n",
    "model.add(LSTM(units=50,return_sequences=True))\n",
    "model.add(Dropout(0.2))\n",
    "model.add(LSTM(units=50))\n",
    "model.add(Dropout(0.2))\n",
    "model.add(Dense(units=1))\n",
    "\n",
    "model.compile(optimizer='adam',loss='mean_squared_error')\n",
    "\n",
    "model.summary()"
   ]
  },
  {
   "cell_type": "code",
   "execution_count": 67,
   "id": "compound-complex",
   "metadata": {},
   "outputs": [
    {
     "name": "stdout",
     "output_type": "stream",
     "text": [
      "Epoch 1/25\n",
      "108/108 [==============================] - 25s 115ms/step - loss: 0.0068\n",
      "Epoch 2/25\n",
      "108/108 [==============================] - 11s 105ms/step - loss: 0.00143s - loss: 0. - ETA: 3s - loss -\n",
      "Epoch 3/25\n",
      "108/108 [==============================] - 12s 114ms/step - loss: 0.0013\n",
      "Epoch 4/25\n",
      "108/108 [==============================] - 11s 105ms/step - loss: 0.0013\n",
      "Epoch 5/25\n",
      "108/108 [==============================] - 10s 95ms/step - loss: 0.0010\n",
      "Epoch 6/25\n",
      "108/108 [==============================] - 9s 81ms/step - loss: 0.0012\n",
      "Epoch 7/25\n",
      "108/108 [==============================] - 11s 102ms/step - loss: 0.0011\n",
      "Epoch 8/25\n",
      "108/108 [==============================] - 11s 104ms/step - loss: 0.0011\n",
      "Epoch 9/25\n",
      "108/108 [==============================] - 12s 110ms/step - loss: 9.5611e-04\n",
      "Epoch 10/25\n",
      "108/108 [==============================] - 12s 109ms/step - loss: 9.8117e-044s - \n",
      "Epoch 11/25\n",
      "108/108 [==============================] - 13s 117ms/step - loss: 8.3810e-04\n",
      "Epoch 12/25\n",
      "108/108 [==============================] - 12s 113ms/step - loss: 9.0165e-04\n",
      "Epoch 13/25\n",
      "108/108 [==============================] - 12s 107ms/step - loss: 9.4613e-04\n",
      "Epoch 14/25\n",
      "108/108 [==============================] - 11s 102ms/step - loss: 7.9721e-04\n",
      "Epoch 15/25\n",
      "108/108 [==============================] - 11s 104ms/step - loss: 8.4787e-04\n",
      "Epoch 16/25\n",
      "108/108 [==============================] - 11s 100ms/step - loss: 9.5740e-040s - loss: 9.5443\n",
      "Epoch 17/25\n",
      "108/108 [==============================] - 11s 102ms/step - loss: 8.3831e-04\n",
      "Epoch 18/25\n",
      "108/108 [==============================] - 11s 100ms/step - loss: 8.2210e-043s - loss: - ETA: 2s - loss: 8.211 - ETA: 2s - - ETA: 0s - loss: 8.1862\n",
      "Epoch 19/25\n",
      "108/108 [==============================] - 11s 103ms/step - loss: 7.9202e-04\n",
      "Epoch 20/25\n",
      "108/108 [==============================] - 11s 103ms/step - loss: 7.7105e-04\n",
      "Epoch 21/25\n",
      "108/108 [==============================] - 11s 105ms/step - loss: 6.9244e-04\n",
      "Epoch 22/25\n",
      "108/108 [==============================] - 11s 105ms/step - loss: 7.8089e-04\n",
      "Epoch 23/25\n",
      "108/108 [==============================] - 11s 105ms/step - loss: 7.8082e-04\n",
      "Epoch 24/25\n",
      "108/108 [==============================] - 11s 106ms/step - loss: 6.7472e-040s - loss: 6.7703e-\n",
      "Epoch 25/25\n",
      "108/108 [==============================] - 12s 107ms/step - loss: 7.4146e-04\n"
     ]
    },
    {
     "data": {
      "text/plain": [
       "<tensorflow.python.keras.callbacks.History at 0x22bb48c9100>"
      ]
     },
     "execution_count": 67,
     "metadata": {},
     "output_type": "execute_result"
    }
   ],
   "source": [
    "#fitting the training data into the model\n",
    "model.fit(X_train,y_train,epochs=25,batch_size=25)"
   ]
  },
  {
   "cell_type": "code",
   "execution_count": 68,
   "id": "parallel-singing",
   "metadata": {},
   "outputs": [
    {
     "data": {
      "text/html": [
       "<div>\n",
       "<style scoped>\n",
       "    .dataframe tbody tr th:only-of-type {\n",
       "        vertical-align: middle;\n",
       "    }\n",
       "\n",
       "    .dataframe tbody tr th {\n",
       "        vertical-align: top;\n",
       "    }\n",
       "\n",
       "    .dataframe thead th {\n",
       "        text-align: right;\n",
       "    }\n",
       "</style>\n",
       "<table border=\"1\" class=\"dataframe\">\n",
       "  <thead>\n",
       "    <tr style=\"text-align: right;\">\n",
       "      <th></th>\n",
       "      <th>High</th>\n",
       "      <th>Low</th>\n",
       "      <th>Open</th>\n",
       "      <th>Close</th>\n",
       "      <th>Volume</th>\n",
       "      <th>Adj Close</th>\n",
       "    </tr>\n",
       "    <tr>\n",
       "      <th>Date</th>\n",
       "      <th></th>\n",
       "      <th></th>\n",
       "      <th></th>\n",
       "      <th></th>\n",
       "      <th></th>\n",
       "      <th></th>\n",
       "    </tr>\n",
       "  </thead>\n",
       "  <tbody>\n",
       "    <tr>\n",
       "      <th>2019-12-31</th>\n",
       "      <td>157.770004</td>\n",
       "      <td>156.449997</td>\n",
       "      <td>156.770004</td>\n",
       "      <td>157.699997</td>\n",
       "      <td>18369400.0</td>\n",
       "      <td>155.688324</td>\n",
       "    </tr>\n",
       "    <tr>\n",
       "      <th>2020-01-02</th>\n",
       "      <td>160.729996</td>\n",
       "      <td>158.330002</td>\n",
       "      <td>158.779999</td>\n",
       "      <td>160.619995</td>\n",
       "      <td>22622100.0</td>\n",
       "      <td>158.571075</td>\n",
       "    </tr>\n",
       "    <tr>\n",
       "      <th>2020-01-03</th>\n",
       "      <td>159.949997</td>\n",
       "      <td>158.059998</td>\n",
       "      <td>158.320007</td>\n",
       "      <td>158.619995</td>\n",
       "      <td>21116200.0</td>\n",
       "      <td>156.596588</td>\n",
       "    </tr>\n",
       "    <tr>\n",
       "      <th>2020-01-06</th>\n",
       "      <td>159.100006</td>\n",
       "      <td>156.509995</td>\n",
       "      <td>157.080002</td>\n",
       "      <td>159.029999</td>\n",
       "      <td>20813700.0</td>\n",
       "      <td>157.001373</td>\n",
       "    </tr>\n",
       "    <tr>\n",
       "      <th>2020-01-07</th>\n",
       "      <td>159.669998</td>\n",
       "      <td>157.320007</td>\n",
       "      <td>159.320007</td>\n",
       "      <td>157.580002</td>\n",
       "      <td>21634100.0</td>\n",
       "      <td>155.569855</td>\n",
       "    </tr>\n",
       "  </tbody>\n",
       "</table>\n",
       "</div>"
      ],
      "text/plain": [
       "                  High         Low        Open       Close      Volume  \\\n",
       "Date                                                                     \n",
       "2019-12-31  157.770004  156.449997  156.770004  157.699997  18369400.0   \n",
       "2020-01-02  160.729996  158.330002  158.779999  160.619995  22622100.0   \n",
       "2020-01-03  159.949997  158.059998  158.320007  158.619995  21116200.0   \n",
       "2020-01-06  159.100006  156.509995  157.080002  159.029999  20813700.0   \n",
       "2020-01-07  159.669998  157.320007  159.320007  157.580002  21634100.0   \n",
       "\n",
       "             Adj Close  \n",
       "Date                    \n",
       "2019-12-31  155.688324  \n",
       "2020-01-02  158.571075  \n",
       "2020-01-03  156.596588  \n",
       "2020-01-06  157.001373  \n",
       "2020-01-07  155.569855  "
      ]
     },
     "execution_count": 68,
     "metadata": {},
     "output_type": "execute_result"
    }
   ],
   "source": [
    "#providing the model with new data\n",
    "test_start=dt.datetime(2020,1,1)\n",
    "test_end=dt.datetime.now()\n",
    "\n",
    "test_stock_data = pdr.DataReader(company,'yahoo',test_start,test_end)\n",
    "test_stock_data.head()"
   ]
  },
  {
   "cell_type": "code",
   "execution_count": 76,
   "id": "arranged-israel",
   "metadata": {},
   "outputs": [],
   "source": [
    "#actual_prices is the prices of the actual data\n",
    "actual_prices = test_stock_data['Close'].values\n",
    "total_dataset = pd.concat((stock_data['Close'],test_stock_data['Close']),axis=0)\n",
    "\n",
    "model_inputs = total_dataset[len(total_dataset) - len(test_stock_data) - prediction_days:].values\n",
    "model_inputs = model_inputs.reshape(-1,1)\n",
    "model_inputs = scaler.transform(model_inputs)"
   ]
  },
  {
   "cell_type": "markdown",
   "id": "million-chain",
   "metadata": {},
   "source": [
    "## Comparing Actual prices and Predicted prices"
   ]
  },
  {
   "cell_type": "code",
   "execution_count": 78,
   "id": "confused-trade",
   "metadata": {},
   "outputs": [],
   "source": [
    "#making predictions\n",
    "X_test=[]\n",
    "for x in range(prediction_days,len(model_inputs)):\n",
    "    X_test.append(model_inputs[x-prediction_days:x,0])\n",
    "X_test = np.array(X_test)\n",
    "X_test = np.reshape(X_test,(X_test.shape[0],X_test.shape[1],1))\n",
    "\n",
    "predicted_prices = model.predict(X_test)\n",
    "predicted_prices = scaler.inverse_transform(predicted_prices)\n"
   ]
  },
  {
   "cell_type": "code",
   "execution_count": 84,
   "id": "broad-brother",
   "metadata": {},
   "outputs": [
    {
     "data": {
      "image/png": "[encoded data removed]",
      "text/plain": [
       "<Figure size 576x360 with 1 Axes>"
      ]
     },
     "metadata": {},
     "output_type": "display_data"
    }
   ],
   "source": [
    "#plotting the actual and predicted prices\n",
    "sns.set_style('whitegrid')\n",
    "plt.figure(figsize=(8,5))\n",
    "plt.plot(actual_prices,color='black',label=f'Actual {company} Price')\n",
    "plt.plot(predicted_prices,color='r',label =f'Predicted {company} Price')\n",
    "plt.title(f\"{company} Share Price\")\n",
    "plt.xlabel('Time')\n",
    "plt.ylabel(f\"{company} Share\")\n",
    "plt.legend()\n",
    "plt.show()"
   ]
  },
  {
   "cell_type": "markdown",
   "id": "piano-there",
   "metadata": {},
   "source": [
    "## Predicting the stock price for the next day"
   ]
  },
  {
   "cell_type": "code",
   "execution_count": 93,
   "id": "meaningful-manual",
   "metadata": {},
   "outputs": [
    {
     "name": "stdout",
     "output_type": "stream",
     "text": [
      "MSFT Stock Price for the next day: [[249.5767]]\n"
     ]
    }
   ],
   "source": [
    "#predicting next day price\n",
    "\n",
    "data = [model_inputs[len(model_inputs)+1 - prediction_days:len(model_inputs)+1,0]]\n",
    "data = np.array(data)\n",
    "data = np.reshape(data, (data.shape[0],data.shape[1],1))\n",
    "next_day_prediction = model.predict(data)\n",
    "next_day_prediction = scaler.inverse_transform(next_day_prediction)\n",
    "print(f\"{company} Stock Price for the next day: {next_day_prediction}\")"
   ]
  },
  {
   "cell_type": "code",
   "execution_count": null,
   "id": "wrong-canvas",
   "metadata": {},
   "outputs": [],
   "source": []
  }
 ],
 "metadata": {
  "kernelspec": {
   "display_name": "Python 3",
   "language": "python",
   "name": "python3"
  },
  "language_info": {
   "codemirror_mode": {
    "name": "ipython",
    "version": 3
   },
   "file_extension": ".py",
   "mimetype": "text/x-python",
   "name": "python",
   "nbconvert_exporter": "python",
   "pygments_lexer": "ipython3",
   "version": "3.9.1"
  }
 },
 "nbformat": 4,
 "nbformat_minor": 5
}
